{
  "nbformat": 4,
  "nbformat_minor": 0,
  "metadata": {
    "colab": {
      "name": "Untitled5.ipynb",
      "provenance": [],
      "authorship_tag": "ABX9TyPC9NVUfbwocsg/abYrjQhV",
      "include_colab_link": true
    },
    "kernelspec": {
      "name": "python3",
      "display_name": "Python 3"
    },
    "language_info": {
      "name": "python"
    }
  },
  "cells": [
    {
      "cell_type": "markdown",
      "metadata": {
        "id": "view-in-github",
        "colab_type": "text"
      },
      "source": [
        "<a href=\"https://colab.research.google.com/github/manish33scss/Image_duplicate/blob/main/Image%20hashing.ipynb\" target=\"_parent\"><img src=\"https://colab.research.google.com/assets/colab-badge.svg\" alt=\"Open In Colab\"/></a>"
      ]
    },
    {
      "cell_type": "code",
      "metadata": {
        "colab": {
          "base_uri": "https://localhost:8080/"
        },
        "id": "l29jqxWz71ri",
        "outputId": "adb412e1-9908-4c71-947b-158199534d1a"
      },
      "source": [
        "from google.colab import drive\n",
        "drive.mount('/content/gdrive')"
      ],
      "execution_count": 1,
      "outputs": [
        {
          "output_type": "stream",
          "text": [
            "Mounted at /content/gdrive\n"
          ],
          "name": "stdout"
        }
      ]
    },
    {
      "cell_type": "code",
      "metadata": {
        "colab": {
          "base_uri": "https://localhost:8080/"
        },
        "id": "6JwnBQY88KPy",
        "outputId": "944722a7-9b77-4911-8a99-500e95958bf1"
      },
      "source": [
        "!pip install imagehash"
      ],
      "execution_count": 2,
      "outputs": [
        {
          "output_type": "stream",
          "text": [
            "Collecting imagehash\n",
            "\u001b[?25l  Downloading https://files.pythonhosted.org/packages/8e/18/9dbb772b5ef73a3069c66bb5bf29b9fb4dd57af0d5790c781c3f559bcca6/ImageHash-4.2.0-py2.py3-none-any.whl (295kB)\n",
            "\r\u001b[K     |█                               | 10kB 15.4MB/s eta 0:00:01\r\u001b[K     |██▏                             | 20kB 13.4MB/s eta 0:00:01\r\u001b[K     |███▎                            | 30kB 10.3MB/s eta 0:00:01\r\u001b[K     |████▍                           | 40kB 8.3MB/s eta 0:00:01\r\u001b[K     |█████▌                          | 51kB 5.0MB/s eta 0:00:01\r\u001b[K     |██████▋                         | 61kB 5.7MB/s eta 0:00:01\r\u001b[K     |███████▊                        | 71kB 6.0MB/s eta 0:00:01\r\u001b[K     |████████▉                       | 81kB 6.7MB/s eta 0:00:01\r\u001b[K     |██████████                      | 92kB 6.2MB/s eta 0:00:01\r\u001b[K     |███████████                     | 102kB 6.6MB/s eta 0:00:01\r\u001b[K     |████████████▏                   | 112kB 6.6MB/s eta 0:00:01\r\u001b[K     |█████████████▎                  | 122kB 6.6MB/s eta 0:00:01\r\u001b[K     |██████████████▍                 | 133kB 6.6MB/s eta 0:00:01\r\u001b[K     |███████████████▌                | 143kB 6.6MB/s eta 0:00:01\r\u001b[K     |████████████████▋               | 153kB 6.6MB/s eta 0:00:01\r\u001b[K     |█████████████████▊              | 163kB 6.6MB/s eta 0:00:01\r\u001b[K     |██████████████████▉             | 174kB 6.6MB/s eta 0:00:01\r\u001b[K     |████████████████████            | 184kB 6.6MB/s eta 0:00:01\r\u001b[K     |█████████████████████           | 194kB 6.6MB/s eta 0:00:01\r\u001b[K     |██████████████████████▏         | 204kB 6.6MB/s eta 0:00:01\r\u001b[K     |███████████████████████▎        | 215kB 6.6MB/s eta 0:00:01\r\u001b[K     |████████████████████████▍       | 225kB 6.6MB/s eta 0:00:01\r\u001b[K     |█████████████████████████▌      | 235kB 6.6MB/s eta 0:00:01\r\u001b[K     |██████████████████████████▋     | 245kB 6.6MB/s eta 0:00:01\r\u001b[K     |███████████████████████████▊    | 256kB 6.6MB/s eta 0:00:01\r\u001b[K     |████████████████████████████▉   | 266kB 6.6MB/s eta 0:00:01\r\u001b[K     |██████████████████████████████  | 276kB 6.6MB/s eta 0:00:01\r\u001b[K     |███████████████████████████████ | 286kB 6.6MB/s eta 0:00:01\r\u001b[K     |████████████████████████████████| 296kB 6.6MB/s \n",
            "\u001b[?25hRequirement already satisfied: six in /usr/local/lib/python3.7/dist-packages (from imagehash) (1.15.0)\n",
            "Requirement already satisfied: pillow in /usr/local/lib/python3.7/dist-packages (from imagehash) (7.1.2)\n",
            "Requirement already satisfied: PyWavelets in /usr/local/lib/python3.7/dist-packages (from imagehash) (1.1.1)\n",
            "Requirement already satisfied: numpy in /usr/local/lib/python3.7/dist-packages (from imagehash) (1.19.5)\n",
            "Requirement already satisfied: scipy in /usr/local/lib/python3.7/dist-packages (from imagehash) (1.4.1)\n",
            "Installing collected packages: imagehash\n",
            "Successfully installed imagehash-4.2.0\n"
          ],
          "name": "stdout"
        }
      ]
    },
    {
      "cell_type": "code",
      "metadata": {
        "id": "C_YsB8NB8O8M"
      },
      "source": [
        "\n",
        "from  PIL import Image\n",
        "import imagehash\n",
        "import cv2\n",
        "from google.colab.patches import cv2_imshow"
      ],
      "execution_count": 8,
      "outputs": []
    },
    {
      "cell_type": "code",
      "metadata": {
        "colab": {
          "base_uri": "https://localhost:8080/",
          "height": 497
        },
        "id": "6-McFYlV8Sdb",
        "outputId": "5e88eed9-63a4-4dca-ba26-39db841ec123"
      },
      "source": [
        ""
      ],
      "execution_count": 13,
      "outputs": [
        {
          "output_type": "display_data",
          "data": {
            "image/png": "[encoded data removed]",
            "text/plain": [
              "<PIL.Image.Image image mode=L size=640x480 at 0x7FA0A9DF4AD0>"
            ]
          },
          "metadata": {
            "tags": []
          }
        }
      ]
    },
    {
      "cell_type": "code",
      "metadata": {
        "id": "Aw9fUpDT-JMf"
      },
      "source": [
        "hash   = imagehash.phash(Image.open('/content/gdrive/MyDrive/30_mar/covcar.jpg'), hash_size = 9)"
      ],
      "execution_count": 14,
      "outputs": []
    },
    {
      "cell_type": "code",
      "metadata": {
        "colab": {
          "base_uri": "https://localhost:8080/"
        },
        "id": "Qb37HT97-ON3",
        "outputId": "886dc68d-a9d3-4502-d825-d3fb1f1e1d02"
      },
      "source": [
        "hash"
      ],
      "execution_count": 15,
      "outputs": [
        {
          "output_type": "execute_result",
          "data": {
            "text/plain": [
              "array([[ True,  True, False, False, False,  True, False, False,  True],\n",
              "       [False,  True,  True,  True,  True, False, False,  True, False],\n",
              "       [False, False,  True,  True,  True, False, False,  True,  True],\n",
              "       [ True, False, False,  True, False,  True,  True, False,  True],\n",
              "       [ True,  True,  True, False, False, False, False,  True,  True],\n",
              "       [ True,  True,  True, False,  True,  True, False,  True, False],\n",
              "       [False,  True,  True,  True, False, False,  True, False, False],\n",
              "       [False, False, False,  True,  True, False,  True,  True,  True],\n",
              "       [False, False, False, False, False,  True, False, False, False]])"
            ]
          },
          "metadata": {
            "tags": []
          },
          "execution_count": 15
        }
      ]
    },
    {
      "cell_type": "code",
      "metadata": {
        "colab": {
          "base_uri": "https://localhost:8080/"
        },
        "id": "7slxtLPw88Sh",
        "outputId": "c74461cb-65fa-41e5-dd66-1e13767a462e"
      },
      "source": [
        "print(hash)"
      ],
      "execution_count": 16,
      "outputs": [
        {
          "output_type": "stream",
          "text": [
            "189791ce5bc3ed3906e08\n"
          ],
          "name": "stdout"
        }
      ]
    }
  ]
}